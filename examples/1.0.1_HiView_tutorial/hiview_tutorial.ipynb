{
 "cells": [
  {
   "cell_type": "markdown",
   "metadata": {},
   "source": [
    "**This is an tutorial of visualizing hierarchical protein network modules, with a script interfacing the DDOT python package (v1.0.1) and the HiView web browser (v2.6).**\n",
    "\n",
    "**Author: Fan Zheng**\n",
    "\n",
    "**Date: Aug. 2020**"
   ]
  },
  {
   "cell_type": "markdown",
   "metadata": {},
   "source": [
    "# Get started"
   ]
  },
  {
   "cell_type": "markdown",
   "metadata": {},
   "source": [
    "Please check the DDOT package has been installed and all dependencies are satisfied. To complete this tutorial, you just need the upload script `tohiview.py`, and a few input files of that script. We will walk over the creation of hierarchical models and their visualization in HiView.   "
   ]
  },
  {
   "cell_type": "code",
   "execution_count": 20,
   "metadata": {},
   "outputs": [],
   "source": [
    "username = 'fzheng' # replace with your username"
   ]
  },
  {
   "cell_type": "code",
   "execution_count": 16,
   "metadata": {},
   "outputs": [
    {
     "name": "stdin",
     "output_type": "stream",
     "text": [
      "Passwd here:  ········\n"
     ]
    }
   ],
   "source": [
    "import getpass\n",
    "passwd = getpass.getpass(\"Password here: \")"
   ]
  },
  {
   "cell_type": "markdown",
   "metadata": {},
   "source": [
    "The available options for the upload script are listed below. Many options are available, but only `--ont`, `--hier_name`, `--ndex_acount` are required.\n",
    "\n",
    "`--ont` should be a 3-column tab-separated file defined in DDOT, which represents parent, child and type of the relationship.\n",
    "`--hier_name` is just a string to label the files.   \n",
    "`--ndex_acount` contains 3 strings, the server name (http://test.ndexbio.org), a username, and a password.\n",
    "\n",
    "**Note:** so far we require using the NDEx test server, as this pipeline can potentially create a large number of networks in one's NDEx account."
   ]
  },
  {
   "cell_type": "code",
   "execution_count": 33,
   "metadata": {},
   "outputs": [
    {
     "name": "stdout",
     "output_type": "stream",
     "text": [
      "usage: tohiview.py [-h] --ont ONT --hier_name HIER_NAME\n",
      "                   [--ndex_account NDEX_ACCOUNT NDEX_ACCOUNT NDEX_ACCOUNT]\n",
      "                   [--score SCORE] [--subnet_size SUBNET_SIZE SUBNET_SIZE]\n",
      "                   [--node_attr NODE_ATTR] [--evinet_links EVINET_LINKS]\n",
      "                   [--evinet_size EVINET_SIZE] [--gene_attr GENE_ATTR]\n",
      "                   [--term_2_uuid TERM_2_UUID]\n",
      "                   [--visible_cols [VISIBLE_COLS [VISIBLE_COLS ...]]]\n",
      "                   [--max_num_edges MAX_NUM_EDGES] [--col_color COL_COLOR]\n",
      "                   [--col_label COL_LABEL] [--rename RENAME] [--skip_main]\n",
      "\n",
      "optional arguments:\n",
      "  -h, --help            show this help message and exit\n",
      "  --ont ONT             ontology file, 3 col table\n",
      "  --hier_name HIER_NAME\n",
      "                        name of the hierarchy\n",
      "  --ndex_account NDEX_ACCOUNT NDEX_ACCOUNT NDEX_ACCOUNT\n",
      "  --score SCORE         integrated edge score\n",
      "  --subnet_size SUBNET_SIZE SUBNET_SIZE\n",
      "                        minimum and maximum term size to show network support\n",
      "  --node_attr NODE_ATTR\n",
      "                        table file for attributes on systems\n",
      "  --evinet_links EVINET_LINKS\n",
      "                        data frame for network support\n",
      "  --evinet_size EVINET_SIZE\n",
      "                        data frame for network support\n",
      "  --gene_attr GENE_ATTR\n",
      "                        table file for attributes on genes\n",
      "  --term_2_uuid TERM_2_UUID\n",
      "                        if available, reuse networks that are already on NDEX\n",
      "  --visible_cols [VISIBLE_COLS [VISIBLE_COLS ...]]\n",
      "                        a list, specified column names in the ode attribute\n",
      "                        file will be shown as subsystem information\n",
      "  --max_num_edges MAX_NUM_EDGES\n",
      "                        maximum number of edges uploaded\n",
      "  --col_color COL_COLOR\n",
      "                        a column name in the node attribute file, used to\n",
      "                        color the node (only works in node-link diagram)\n",
      "  --col_label COL_LABEL\n",
      "                        a column name in the node attribute file, add as the\n",
      "                        term label on the map\n",
      "  --rename RENAME       if not None, rename name of subsystems specified by\n",
      "                        this column in the node_attr file\n",
      "  --skip_main           if true, do not update the main hierarchy\n"
     ]
    }
   ],
   "source": [
    "%%bash \n",
    "\n",
    "python ../../ddot/tohiview.py -h"
   ]
  },
  {
   "cell_type": "markdown",
   "metadata": {},
   "source": [
    "# 1. A simple hierarchy"
   ]
  },
  {
   "cell_type": "markdown",
   "metadata": {},
   "source": [
    "We will first create and upload a decoy hierarchy."
   ]
  },
  {
   "cell_type": "code",
   "execution_count": 69,
   "metadata": {},
   "outputs": [
    {
     "data": {
      "text/html": [
       "<div>\n",
       "<style scoped>\n",
       "    .dataframe tbody tr th:only-of-type {\n",
       "        vertical-align: middle;\n",
       "    }\n",
       "\n",
       "    .dataframe tbody tr th {\n",
       "        vertical-align: top;\n",
       "    }\n",
       "\n",
       "    .dataframe thead th {\n",
       "        text-align: right;\n",
       "    }\n",
       "</style>\n",
       "<table border=\"1\" class=\"dataframe\">\n",
       "  <thead>\n",
       "    <tr style=\"text-align: right;\">\n",
       "      <th></th>\n",
       "      <th>0</th>\n",
       "      <th>1</th>\n",
       "      <th>2</th>\n",
       "    </tr>\n",
       "  </thead>\n",
       "  <tbody>\n",
       "    <tr>\n",
       "      <td>0</td>\n",
       "      <td>ROOT</td>\n",
       "      <td>Coarse-1</td>\n",
       "      <td>default</td>\n",
       "    </tr>\n",
       "    <tr>\n",
       "      <td>1</td>\n",
       "      <td>ROOT</td>\n",
       "      <td>Coarse-2</td>\n",
       "      <td>default</td>\n",
       "    </tr>\n",
       "    <tr>\n",
       "      <td>2</td>\n",
       "      <td>Coarse-1</td>\n",
       "      <td>Fine-1</td>\n",
       "      <td>default</td>\n",
       "    </tr>\n",
       "    <tr>\n",
       "      <td>3</td>\n",
       "      <td>Coarse-1</td>\n",
       "      <td>Fine-2</td>\n",
       "      <td>default</td>\n",
       "    </tr>\n",
       "    <tr>\n",
       "      <td>4</td>\n",
       "      <td>Coarse-1</td>\n",
       "      <td>Fine-3</td>\n",
       "      <td>default</td>\n",
       "    </tr>\n",
       "    <tr>\n",
       "      <td>5</td>\n",
       "      <td>Coarse-2</td>\n",
       "      <td>Fine-3</td>\n",
       "      <td>default</td>\n",
       "    </tr>\n",
       "    <tr>\n",
       "      <td>6</td>\n",
       "      <td>Coarse-2</td>\n",
       "      <td>Fine-4</td>\n",
       "      <td>default</td>\n",
       "    </tr>\n",
       "    <tr>\n",
       "      <td>7</td>\n",
       "      <td>Fine-1</td>\n",
       "      <td>geneA</td>\n",
       "      <td>gene</td>\n",
       "    </tr>\n",
       "    <tr>\n",
       "      <td>8</td>\n",
       "      <td>Fine-1</td>\n",
       "      <td>geneB</td>\n",
       "      <td>gene</td>\n",
       "    </tr>\n",
       "    <tr>\n",
       "      <td>9</td>\n",
       "      <td>Coarse-1</td>\n",
       "      <td>geneC</td>\n",
       "      <td>gene</td>\n",
       "    </tr>\n",
       "  </tbody>\n",
       "</table>\n",
       "</div>"
      ],
      "text/plain": [
       "          0         1        2\n",
       "0      ROOT  Coarse-1  default\n",
       "1      ROOT  Coarse-2  default\n",
       "2  Coarse-1    Fine-1  default\n",
       "3  Coarse-1    Fine-2  default\n",
       "4  Coarse-1    Fine-3  default\n",
       "5  Coarse-2    Fine-3  default\n",
       "6  Coarse-2    Fine-4  default\n",
       "7    Fine-1     geneA     gene\n",
       "8    Fine-1     geneB     gene\n",
       "9  Coarse-1     geneC     gene"
      ]
     },
     "execution_count": 69,
     "metadata": {},
     "output_type": "execute_result"
    }
   ],
   "source": [
    "d = './data'\n",
    "df = pd.read_csv(d + '/test1.ont', sep='\\t', header=None)\n",
    "df"
   ]
  },
  {
   "cell_type": "markdown",
   "metadata": {},
   "source": [
    "Note this hierarchy is a DAG (directed acyclic graph). The node \"Fine-3\" has two parents: \"Coarse-1\" and \"Coarse-2\". In HiView, a circle \"Fine-3\" will be found nested under the circles of both \"Coarse-1\" and \"Coarse-2\"."
   ]
  },
  {
   "cell_type": "markdown",
   "metadata": {},
   "source": [
    "**Warning**: we require node names not containing \".\" and \"_\".  "
   ]
  },
  {
   "cell_type": "code",
   "execution_count": 71,
   "metadata": {},
   "outputs": [
    {
     "name": "stdout",
     "output_type": "stream",
     "text": [
      "\n",
      "http://hiview.ucsd.edu/17ea0c7b-d763-11ea-9101-0660b7976219?type=test&server=http://test.ndexbio.org\n"
     ]
    }
   ],
   "source": [
    "%%bash -s \"$username\" \"$passwd\"\n",
    "\n",
    "python ../../ddot/tohiview.py --ont ./data/test1.ont --hier_name test1 --ndex_account http://test.ndexbio.org $1 $2"
   ]
  },
  {
   "cell_type": "markdown",
   "metadata": {},
   "source": [
    "Paste the above link to the browser to launch HiView to visualize this hierarchy (it will be a different UUID each time)."
   ]
  },
  {
   "cell_type": "markdown",
   "metadata": {},
   "source": [
    "<img src=\"fig/fig1.png\" width=\"600\" />"
   ]
  },
  {
   "cell_type": "markdown",
   "metadata": {},
   "source": [
    "In HiView, a hierarchy is represented by the \"circle-packing\" layout. The biggest circle represents the root (a node in the DAG with only outgoing edges); thus we require the input data to contain exactly one root. If there are multiple roots, the script will add a root on top of them. Double-clicking a circle expands deeper structures, one level at a time."
   ]
  },
  {
   "cell_type": "markdown",
   "metadata": {},
   "source": [
    "# 2. Adding integrated networks to communities"
   ]
  },
  {
   "cell_type": "markdown",
   "metadata": {},
   "source": [
    "HiView is a powerful platform to display nested communities (of multiple scales) in a network. It is often of interest to visualize edges in the source network that support a community.   \n",
    "Precisely, for a source network $G = (V, E)$, a subnetwork of a community $s$ is defined as $G_s = (V_s, E_s)$, where $V_s \\in V, E_s \\in E$, and $\\forall e = (u,v) \\in E_s$, $u,v \\in V_s$.  \n"
   ]
  },
  {
   "cell_type": "markdown",
   "metadata": {},
   "source": [
    "This is achieved by the `--score` argument. It is a tab-separated file with three columns: `geneA`,`geneB`, and `score`. We recommend having the values of scores between (0,1). "
   ]
  },
  {
   "cell_type": "markdown",
   "metadata": {},
   "source": [
    "In this example, we will use a small sub-hierarchy with some gene-gene association scores. Let's see their format:"
   ]
  },
  {
   "cell_type": "code",
   "execution_count": 42,
   "metadata": {},
   "outputs": [
    {
     "data": {
      "text/html": [
       "<div>\n",
       "<style scoped>\n",
       "    .dataframe tbody tr th:only-of-type {\n",
       "        vertical-align: middle;\n",
       "    }\n",
       "\n",
       "    .dataframe tbody tr th {\n",
       "        vertical-align: top;\n",
       "    }\n",
       "\n",
       "    .dataframe thead th {\n",
       "        text-align: right;\n",
       "    }\n",
       "</style>\n",
       "<table border=\"1\" class=\"dataframe\">\n",
       "  <thead>\n",
       "    <tr style=\"text-align: right;\">\n",
       "      <th></th>\n",
       "      <th>0</th>\n",
       "      <th>1</th>\n",
       "      <th>2</th>\n",
       "    </tr>\n",
       "  </thead>\n",
       "  <tbody>\n",
       "    <tr>\n",
       "      <td>0</td>\n",
       "      <td>22133</td>\n",
       "      <td>21875</td>\n",
       "      <td>default</td>\n",
       "    </tr>\n",
       "    <tr>\n",
       "      <td>1</td>\n",
       "      <td>22435</td>\n",
       "      <td>22133</td>\n",
       "      <td>default</td>\n",
       "    </tr>\n",
       "    <tr>\n",
       "      <td>2</td>\n",
       "      <td>22451</td>\n",
       "      <td>21851</td>\n",
       "      <td>default</td>\n",
       "    </tr>\n",
       "  </tbody>\n",
       "</table>\n",
       "</div>"
      ],
      "text/plain": [
       "       0      1        2\n",
       "0  22133  21875  default\n",
       "1  22435  22133  default\n",
       "2  22451  21851  default"
      ]
     },
     "execution_count": 42,
     "metadata": {},
     "output_type": "execute_result"
    }
   ],
   "source": [
    "df_ont = pd.read_csv(d + '/test2.ont', sep='\\t', header=None)\n",
    "df_ont.head(3)"
   ]
  },
  {
   "cell_type": "code",
   "execution_count": 43,
   "metadata": {},
   "outputs": [
    {
     "data": {
      "text/html": [
       "<div>\n",
       "<style scoped>\n",
       "    .dataframe tbody tr th:only-of-type {\n",
       "        vertical-align: middle;\n",
       "    }\n",
       "\n",
       "    .dataframe tbody tr th {\n",
       "        vertical-align: top;\n",
       "    }\n",
       "\n",
       "    .dataframe thead th {\n",
       "        text-align: right;\n",
       "    }\n",
       "</style>\n",
       "<table border=\"1\" class=\"dataframe\">\n",
       "  <thead>\n",
       "    <tr style=\"text-align: right;\">\n",
       "      <th></th>\n",
       "      <th>0</th>\n",
       "      <th>1</th>\n",
       "      <th>2</th>\n",
       "    </tr>\n",
       "  </thead>\n",
       "  <tbody>\n",
       "    <tr>\n",
       "      <td>37</td>\n",
       "      <td>23161</td>\n",
       "      <td>SUPT5H</td>\n",
       "      <td>gene</td>\n",
       "    </tr>\n",
       "    <tr>\n",
       "      <td>38</td>\n",
       "      <td>23248</td>\n",
       "      <td>CSNK2A2</td>\n",
       "      <td>gene</td>\n",
       "    </tr>\n",
       "    <tr>\n",
       "      <td>39</td>\n",
       "      <td>23248</td>\n",
       "      <td>HIST1H3A</td>\n",
       "      <td>gene</td>\n",
       "    </tr>\n",
       "  </tbody>\n",
       "</table>\n",
       "</div>"
      ],
      "text/plain": [
       "        0         1     2\n",
       "37  23161    SUPT5H  gene\n",
       "38  23248   CSNK2A2  gene\n",
       "39  23248  HIST1H3A  gene"
      ]
     },
     "execution_count": 43,
     "metadata": {},
     "output_type": "execute_result"
    }
   ],
   "source": [
    "df_ont.tail(3)"
   ]
  },
  {
   "cell_type": "code",
   "execution_count": 44,
   "metadata": {},
   "outputs": [
    {
     "data": {
      "text/html": [
       "<div>\n",
       "<style scoped>\n",
       "    .dataframe tbody tr th:only-of-type {\n",
       "        vertical-align: middle;\n",
       "    }\n",
       "\n",
       "    .dataframe tbody tr th {\n",
       "        vertical-align: top;\n",
       "    }\n",
       "\n",
       "    .dataframe thead th {\n",
       "        text-align: right;\n",
       "    }\n",
       "</style>\n",
       "<table border=\"1\" class=\"dataframe\">\n",
       "  <thead>\n",
       "    <tr style=\"text-align: right;\">\n",
       "      <th></th>\n",
       "      <th>0</th>\n",
       "      <th>1</th>\n",
       "      <th>2</th>\n",
       "    </tr>\n",
       "  </thead>\n",
       "  <tbody>\n",
       "    <tr>\n",
       "      <td>0</td>\n",
       "      <td>CDC73</td>\n",
       "      <td>CTR9</td>\n",
       "      <td>0.798</td>\n",
       "    </tr>\n",
       "    <tr>\n",
       "      <td>1</td>\n",
       "      <td>CDC73</td>\n",
       "      <td>DNMT3A</td>\n",
       "      <td>0.521</td>\n",
       "    </tr>\n",
       "    <tr>\n",
       "      <td>2</td>\n",
       "      <td>CDC73</td>\n",
       "      <td>HIST1H3A</td>\n",
       "      <td>0.470</td>\n",
       "    </tr>\n",
       "  </tbody>\n",
       "</table>\n",
       "</div>"
      ],
      "text/plain": [
       "       0         1      2\n",
       "0  CDC73      CTR9  0.798\n",
       "1  CDC73    DNMT3A  0.521\n",
       "2  CDC73  HIST1H3A  0.470"
      ]
     },
     "execution_count": 44,
     "metadata": {},
     "output_type": "execute_result"
    }
   ],
   "source": [
    "df_score = pd.read_csv(d + '/test2_score.txt', sep='\\t', header=None)\n",
    "df_score.head(3)"
   ]
  },
  {
   "cell_type": "markdown",
   "metadata": {},
   "source": [
    "Now do the upload:"
   ]
  },
  {
   "cell_type": "code",
   "execution_count": 72,
   "metadata": {},
   "outputs": [
    {
     "name": "stdout",
     "output_type": "stream",
     "text": [
      "\n",
      "http://hiview.ucsd.edu/8ce3e160-d763-11ea-9101-0660b7976219?type=test&server=http://test.ndexbio.org\n"
     ]
    }
   ],
   "source": [
    "%%bash -s \"$username\" \"$passwd\"\n",
    "\n",
    "python ../../ddot/tohiview.py --ont ./data/test2.ont --hier_name test2 --ndex_account http://test.ndexbio.org $1 $2 --score ./data/test2_score.txt"
   ]
  },
  {
   "cell_type": "markdown",
   "metadata": {},
   "source": [
    "The communities in this hierarchy (shown in the \"model view\") are now each associated with a network shown in the \"data view\"."
   ]
  },
  {
   "cell_type": "markdown",
   "metadata": {},
   "source": [
    "<img src=\"fig/fig2.png\" width=\"600\" />"
   ]
  },
  {
   "cell_type": "markdown",
   "metadata": {},
   "source": [
    "## \"score\" of a community.   "
   ]
  },
  {
   "cell_type": "markdown",
   "metadata": {},
   "source": [
    "This is a concept specific to certain community detection algorithms, e.g. CliXO, which takes a weighted graph as the input, and iterate community detection at different thresholds. Thus, each community in CliXO is associated with a \"score\"."
   ]
  },
  {
   "cell_type": "markdown",
   "metadata": {},
   "source": [
    "By default, edges in a subnetwork have a uniform color in HiView. However, if communities are associated with scores, the edges will be shown with a discrete color map (which often visually highlights the community structures), determined by the score of the community itself, and the score(s) of its children community(ies). This can be achieved by adding a 4-th column to the file for the `--ont` argument, as in the following example:"
   ]
  },
  {
   "cell_type": "code",
   "execution_count": 54,
   "metadata": {},
   "outputs": [
    {
     "data": {
      "text/html": [
       "<div>\n",
       "<style scoped>\n",
       "    .dataframe tbody tr th:only-of-type {\n",
       "        vertical-align: middle;\n",
       "    }\n",
       "\n",
       "    .dataframe tbody tr th {\n",
       "        vertical-align: top;\n",
       "    }\n",
       "\n",
       "    .dataframe thead th {\n",
       "        text-align: right;\n",
       "    }\n",
       "</style>\n",
       "<table border=\"1\" class=\"dataframe\">\n",
       "  <thead>\n",
       "    <tr style=\"text-align: right;\">\n",
       "      <th></th>\n",
       "      <th>0</th>\n",
       "      <th>1</th>\n",
       "      <th>2</th>\n",
       "      <th>3</th>\n",
       "    </tr>\n",
       "  </thead>\n",
       "  <tbody>\n",
       "    <tr>\n",
       "      <td>0</td>\n",
       "      <td>S22133</td>\n",
       "      <td>S21875</td>\n",
       "      <td>default</td>\n",
       "      <td>0.72</td>\n",
       "    </tr>\n",
       "    <tr>\n",
       "      <td>1</td>\n",
       "      <td>S22435</td>\n",
       "      <td>S22133</td>\n",
       "      <td>default</td>\n",
       "      <td>0.65</td>\n",
       "    </tr>\n",
       "    <tr>\n",
       "      <td>2</td>\n",
       "      <td>S22451</td>\n",
       "      <td>S21851</td>\n",
       "      <td>default</td>\n",
       "      <td>0.58</td>\n",
       "    </tr>\n",
       "  </tbody>\n",
       "</table>\n",
       "</div>"
      ],
      "text/plain": [
       "        0       1        2     3\n",
       "0  S22133  S21875  default  0.72\n",
       "1  S22435  S22133  default  0.65\n",
       "2  S22451  S21851  default  0.58"
      ]
     },
     "execution_count": 54,
     "metadata": {},
     "output_type": "execute_result"
    }
   ],
   "source": [
    "df_ont = pd.read_csv(d + '/test2_ww.ont', sep='\\t', header=None)\n",
    "df_ont.head(3)"
   ]
  },
  {
   "cell_type": "markdown",
   "metadata": {},
   "source": [
    "The values in the column \"3\" (e.g. 0.72, 0.65) indicate the \"score\" of the community in the column \"0\". The score of a parent community is required to be smaller than the scores of its children. In this example, \"S22435\" is the parent of \"S22133\", and thus 0.65 < 0.72. "
   ]
  },
  {
   "cell_type": "code",
   "execution_count": 73,
   "metadata": {},
   "outputs": [
    {
     "name": "stdout",
     "output_type": "stream",
     "text": [
      "\n",
      "http://hiview.ucsd.edu/45b03af5-d764-11ea-9101-0660b7976219?type=test&server=http://test.ndexbio.org\n"
     ]
    }
   ],
   "source": [
    "%%bash -s \"$username\" \"$passwd\"\n",
    "\n",
    "python ../../ddot/tohiview.py --ont ./data/test2_ww.ont --hier_name test2.1 --ndex_account http://test.ndexbio.org $1 $2 --score ./data/test2_score.txt"
   ]
  },
  {
   "cell_type": "markdown",
   "metadata": {},
   "source": [
    "After upload, we can see the change of edge colors in the data view."
   ]
  },
  {
   "cell_type": "markdown",
   "metadata": {},
   "source": [
    "<img src=\"fig/fig3.png\" width=\"600\" />"
   ]
  },
  {
   "cell_type": "markdown",
   "metadata": {},
   "source": [
    "# 3. Adding multiple evidence networks to communities"
   ]
  },
  {
   "cell_type": "markdown",
   "metadata": {},
   "source": [
    "In addition to a single master network, it is also possible to overlay more networks supporting a community and visualize them HiView. For example, if the master network is the result of integrating multiple datasets, it is often of interest to visualize the interactions in these datasets (jointly or separately)."
   ]
  },
  {
   "cell_type": "markdown",
   "metadata": {},
   "source": [
    "This can be achieved by passing a file to the `--evinet_links` argument. It is a two-column file, providing the name of individual datasets, and the path to the actual files containing the interactions:"
   ]
  },
  {
   "cell_type": "code",
   "execution_count": 60,
   "metadata": {},
   "outputs": [
    {
     "name": "stdout",
     "output_type": "stream",
     "text": [
      "Physical\t./data/test3_ppisample.txt\n",
      "Co_protein_expr\t./data/test3_coxsample.txt\n",
      "CCMI\t./data/test3_binarysample.txt\n"
     ]
    }
   ],
   "source": [
    "%%bash\n",
    "\n",
    "cat ./data/net_links.txt"
   ]
  },
  {
   "cell_type": "markdown",
   "metadata": {},
   "source": [
    "A source file is a 3-column tab-separated file, which can contain binary interactions, or interactions with weights."
   ]
  },
  {
   "cell_type": "code",
   "execution_count": 63,
   "metadata": {},
   "outputs": [
    {
     "name": "stdout",
     "output_type": "stream",
     "text": [
      "CTR9\tLEO1\t5.05\n",
      "SSRP1\tSUPT16H\t4.42\n",
      "LEO1\tPAF1\t5.35\n",
      "CTR9\tPAF1\t5.11\n",
      "CSNK2A1\tCSNK2B\t5.13\n"
     ]
    }
   ],
   "source": [
    "%%bash\n",
    "\n",
    "cat ./data/test3_ppisample.txt |head -5"
   ]
  },
  {
   "cell_type": "code",
   "execution_count": 64,
   "metadata": {},
   "outputs": [
    {
     "name": "stdout",
     "output_type": "stream",
     "text": [
      "MTDH\tSUPT16H\tTrue\n",
      "SUPT16H\tTSPYL5\tTrue\n",
      "MTDH\tSSRP1\tTrue\n",
      "SSRP1\tTSPYL5\tTrue\n"
     ]
    }
   ],
   "source": [
    "%%bash\n",
    "\n",
    "cat ./data/test3_binarysample.txt |head -5"
   ]
  },
  {
   "cell_type": "markdown",
   "metadata": {},
   "source": [
    "Now we do the upload:"
   ]
  },
  {
   "cell_type": "code",
   "execution_count": 74,
   "metadata": {},
   "outputs": [
    {
     "name": "stdout",
     "output_type": "stream",
     "text": [
      "\n",
      "http://hiview.ucsd.edu/0f7f704a-d765-11ea-9101-0660b7976219?type=test&server=http://test.ndexbio.org\n"
     ]
    }
   ],
   "source": [
    "%%bash -s \"$username\" \"$passwd\"\n",
    "\n",
    "python ../../ddot/tohiview.py --ont ./data/test2_ww.ont --hier_name test3 --ndex_account http://test.ndexbio.org $1 $2 --score ./data/test2_score.txt --evinet_links ./data/net_links.txt"
   ]
  },
  {
   "cell_type": "markdown",
   "metadata": {},
   "source": [
    "<img src=\"fig/fig4.png\" width=\"600\" />"
   ]
  },
  {
   "cell_type": "markdown",
   "metadata": {},
   "source": [
    "For the evidence network with real values, users can toggle the threshold to adjust the number of edges from this particular network to be shown in the data view."
   ]
  },
  {
   "cell_type": "markdown",
   "metadata": {},
   "source": [
    "## Large networks"
   ]
  },
  {
   "cell_type": "markdown",
   "metadata": {},
   "source": [
    "Large scale networks are often bottlenecks of the speed of uploading and HiView visualization (we are working on improving that). To reduce overhead, subnetwork uploading can be disabled for large communities, while still being enabled for smaller communities. \n",
    "\n",
    "It is achieved by the `--subnet_size` argument, which takes two integers, specifying the lower and upper bound of community sizes for which upload of the integrated subnetworks is enabled.\n",
    "\n",
    "Similarly `--evinet_size` takes one integer, and for communities larger than this threshold, upload of evidence networks will be disabled.\n",
    "\n",
    "We require `subnet_size[0] < evinet_size <= subnet_size[1]`."
   ]
  },
  {
   "cell_type": "markdown",
   "metadata": {},
   "source": [
    "## Reuse uploaded subnetworks"
   ]
  },
  {
   "cell_type": "markdown",
   "metadata": {},
   "source": [
    "After uploading a hierarchy with subnetworks, you will notice a file starting with `term_2_uuid` written to the working directory. This file describes the mapping between community names and community subnetworks. \n",
    "\n",
    "This file can also be later used as the input of `--term_2_uuid` argument, so subnetworks can be shared across different hierarchical models."
   ]
  },
  {
   "cell_type": "markdown",
   "metadata": {},
   "source": [
    "# 4. Control the information displayed in HiView"
   ]
  },
  {
   "cell_type": "markdown",
   "metadata": {},
   "source": [
    "## update the metadata of communities"
   ]
  },
  {
   "cell_type": "markdown",
   "metadata": {},
   "source": [
    "Users can show some metadata associated with each community in the bottom-right area of HiView (\"Subsystem details\"). This is achieved by the `--node_attr` argument. The input is a data frame with rows being communities and columns being the names of those metadata.\n",
    "\n",
    "For example, assuming we can assign a robustness score for each community. We have created a file with some made-up values:"
   ]
  },
  {
   "cell_type": "code",
   "execution_count": 81,
   "metadata": {},
   "outputs": [
    {
     "name": "stdout",
     "output_type": "stream",
     "text": [
      "\trobustness\n",
      "S21851\t0.462515\n",
      "S21875\t0.781374\n",
      "S22133\t0.686939\n",
      "S22435\t0.848153\n",
      "S22451\t0.471456\n",
      "S22573\t0.247138\n",
      "S22871\t0.201151\n",
      "S23161\t0.55682\n",
      "S23248\t0.277122\n"
     ]
    }
   ],
   "source": [
    "%%bash\n",
    "\n",
    "cat ./data/test4_nodeattr.txt"
   ]
  },
  {
   "cell_type": "markdown",
   "metadata": {},
   "source": [
    "Now upload:"
   ]
  },
  {
   "cell_type": "code",
   "execution_count": 79,
   "metadata": {},
   "outputs": [
    {
     "name": "stdout",
     "output_type": "stream",
     "text": [
      "\n",
      "http://hiview.ucsd.edu/71ac490b-d76b-11ea-9101-0660b7976219?type=test&server=http://test.ndexbio.org\n"
     ]
    }
   ],
   "source": [
    "%%bash -s \"$username\" \"$passwd\"\n",
    "\n",
    "python ../../ddot/tohiview.py --ont ./data/test2_ww.ont --hier_name test4 --ndex_account http://test.ndexbio.org $1 $2 --score ./data/test2_score.txt --term_2_uuid term_2_uuid.test3 --node_attr ./data/test4_nodeattr.txt"
   ]
  },
  {
   "cell_type": "markdown",
   "metadata": {},
   "source": [
    "Note that we also reused uploaded subnetworks with the `--term_2_uuid` argument here. "
   ]
  },
  {
   "cell_type": "markdown",
   "metadata": {},
   "source": [
    "## update display labels in the model view"
   ]
  },
  {
   "cell_type": "markdown",
   "metadata": {},
   "source": [
    "It is possible to update the displayed labels on communities in the model view without a new upload. This can be achieved by the NDEx python client, which should have been installed as a prerequisite of DDOT."
   ]
  },
  {
   "cell_type": "code",
   "execution_count": 82,
   "metadata": {},
   "outputs": [],
   "source": [
    "import ndex.client as nc\n",
    "from ndex.networkn import NdexGraph"
   ]
  },
  {
   "cell_type": "code",
   "execution_count": 84,
   "metadata": {},
   "outputs": [],
   "source": [
    "my_ndex = nc.Ndex(\"http://test.ndexbio.org\", username, passwd)"
   ]
  },
  {
   "cell_type": "markdown",
   "metadata": {},
   "source": [
    "We now change the label of `S22573` in the above model to `helloworld`."
   ]
  },
  {
   "cell_type": "code",
   "execution_count": 94,
   "metadata": {},
   "outputs": [],
   "source": [
    "def change_hiview_label(uuid, dict_rename):\n",
    "\n",
    "    Gcx = my_ndex.get_network_as_cx_stream(uuid).json()\n",
    "    k1 = [i for i in range(len(Gcx)) if 'nodes' in Gcx[i].keys()][0]\n",
    "    k2 = [i for i in range(len(Gcx)) if 'nodeAttributes' in Gcx[i].keys()][0]\n",
    "    \n",
    "    dict_nid_label = {}\n",
    "    for d in Gcx[k1]['nodes']:\n",
    "        if d['n'].split('.')[0] in dict_rename:\n",
    "            dict_nid_label[d['@id']] = dict_rename[d['n'].split('.')[0]]\n",
    "    \n",
    "    \n",
    "    for i in range(len(Gcx[k2]['nodeAttributes'])):\n",
    "        nid = Gcx[k2]['nodeAttributes'][i]['po']\n",
    "        if (nid in dict_nid_label) and (Gcx[k2]['nodeAttributes'][i]['n'] == 'Label'):\n",
    "            Gcx[k2]['nodeAttributes'][i]['v'] = dict_nid_label[Gcx[k2]['nodeAttributes'][i]['po']]\n",
    "            \n",
    "    G = NdexGraph(Gcx)\n",
    "    Gcx_new_stream = G.to_cx_stream()\n",
    "    my_ndex.update_cx_network(Gcx_new_stream, uuid)\n",
    "    return"
   ]
  },
  {
   "cell_type": "code",
   "execution_count": 95,
   "metadata": {},
   "outputs": [
    {
     "name": "stdout",
     "output_type": "stream",
     "text": [
      "\n",
      "consistency group max: 2\n"
     ]
    }
   ],
   "source": [
    "uuid = '71ac490b-d76b-11ea-9101-0660b7976219'\n",
    "change_hiview_label(uuid, {'S22573':'helloworld'})"
   ]
  },
  {
   "cell_type": "markdown",
   "metadata": {},
   "source": [
    "<img src=\"fig/fig5.png\" width=\"600\" />"
   ]
  },
  {
   "cell_type": "markdown",
   "metadata": {},
   "source": [
    "## update node layout in the data view"
   ]
  },
  {
   "cell_type": "markdown",
   "metadata": {},
   "source": [
    "By default, DDOT calls the `spring_layout` function in the `NetworkX` package to create a layout for nodes in the data view. But it is not necessarily the most informative layout, especially for large networks. With NDEx python client, users can provide their own node positions from alternative algorithms, and update the layout in the HiView data view."
   ]
  },
  {
   "cell_type": "markdown",
   "metadata": {},
   "source": [
    "To make an alteration, we need to know the UUID of a subnetwork. It can be found in the `term_uuid_XXX` file created after an upload."
   ]
  },
  {
   "cell_type": "code",
   "execution_count": 97,
   "metadata": {},
   "outputs": [
    {
     "name": "stdout",
     "output_type": "stream",
     "text": [
      "S21851\tS21851\t0e2e3818-d765-11ea-9101-0660b7976219\n",
      "S21875\tS21875\t0e4828ba-d765-11ea-9101-0660b7976219\n"
     ]
    }
   ],
   "source": [
    "%%bash\n",
    "\n",
    "cat term_2_uuid.test3 |head -n 2"
   ]
  },
  {
   "cell_type": "markdown",
   "metadata": {},
   "source": [
    "We now choose the first subnetwork (S21851), and divide x and y coordinates by 5 (to make nodes closer to each other)"
   ]
  },
  {
   "cell_type": "code",
   "execution_count": 108,
   "metadata": {},
   "outputs": [
    {
     "name": "stdout",
     "output_type": "stream",
     "text": [
      "\n"
     ]
    }
   ],
   "source": [
    "uuid = '0e4828ba-d765-11ea-9101-0660b7976219'\n",
    "Gcx = my_ndex.get_network_as_cx_stream(uuid).json()\n",
    "G = NdexGraph(Gcx)"
   ]
  },
  {
   "cell_type": "code",
   "execution_count": 109,
   "metadata": {},
   "outputs": [
    {
     "name": "stdout",
     "output_type": "stream",
     "text": [
      "consistency group max: 2\n"
     ]
    },
    {
     "data": {
      "text/plain": [
       "''"
      ]
     },
     "execution_count": 109,
     "metadata": {},
     "output_type": "execute_result"
    }
   ],
   "source": [
    "Gpos_new = {k:[v[0]/5, v[1]/5] for k,v in G.pos.items()} # alter node position\n",
    "G.pos = Gpos_new\n",
    "Gcx_new_stream = G.to_cx_stream()\n",
    "my_ndex.update_cx_network(Gcx_new_stream, uuid) # update the network on NDEx"
   ]
  },
  {
   "cell_type": "markdown",
   "metadata": {},
   "source": [
    "# 5. Delete a HiView session from NDEx account"
   ]
  },
  {
   "cell_type": "markdown",
   "metadata": {},
   "source": [
    "After upload has been finished, the script creates a folder (network set) on the NDEx account containing one network of the hierarchical model (to be used in the model view), as well as many subnetworks (to be used in the data view). With the button `Delete Network Set`, the set and all networks in this set can be deleted."
   ]
  },
  {
   "cell_type": "markdown",
   "metadata": {},
   "source": [
    "Warning: the name of the network set is equal to the value of `--hier_name`. NDEx cannot have two sets with identical names in the same account. Be sure to change the value of `--hier_name` every time."
   ]
  },
  {
   "cell_type": "markdown",
   "metadata": {},
   "source": [
    "**Warning**: note that if subnetworks are shared across models (see Section 3 above), the deleting operation could affect other models (unwanted)."
   ]
  },
  {
   "cell_type": "markdown",
   "metadata": {},
   "source": [
    "# Conclusion"
   ]
  },
  {
   "cell_type": "markdown",
   "metadata": {},
   "source": [
    "Congratulations! You have finished the tutorial and now you should be able to create your own hierarchical network visualization with DDOT and HiView. We haven't discussed all the options in the upload script in this tutorial, but we believe we have covered the most common use cases. If you encountered issues feel free to contact `fanzheng1101 at gmail dot com`, or leave comments in the \"issues\" tab of Github."
   ]
  },
  {
   "cell_type": "markdown",
   "metadata": {},
   "source": [
    "# Acknowledgements"
   ]
  },
  {
   "cell_type": "markdown",
   "metadata": {},
   "source": [
    "Keiichiro Ono (development of HiView)  \n",
    "Michael Ku Yu (conception of frameworks and initial development of DDOT)  \n",
    "Anton Kratz (constructive feedback)"
   ]
  }
 ],
 "metadata": {
  "kernelspec": {
   "display_name": "Python 3",
   "language": "python",
   "name": "python3"
  },
  "language_info": {
   "codemirror_mode": {
    "name": "ipython",
    "version": 3
   },
   "file_extension": ".py",
   "mimetype": "text/x-python",
   "name": "python",
   "nbconvert_exporter": "python",
   "pygments_lexer": "ipython3",
   "version": "3.8.3"
  }
 },
 "nbformat": 4,
 "nbformat_minor": 4
}
