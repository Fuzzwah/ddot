{
 "cells": [
  {
   "cell_type": "markdown",
   "metadata": {},
   "source": [
    "# Introduction: Use DDOT to download and process a human-focused Gene Ontology (GO)\n",
    "\n",
    "The Gene Ontology (GO) is a general structure that has been curated to describe all species. This notebook extracts the portion of GO that is focused on human biology. This notebook does the following processing steps:\n",
    "\n",
    "1. Download the GO structure and gene-term annotations\n",
    "2. Remove redundant GO terms that are not relevant for human, i.e. terms that contain no human genes.\n",
    "3. Concatenate all three branches of GO (biological process, molecular function, cellular component) into a unified ontology with an artificial root 'GO:00SUPER'\n",
    "4. Convert gene IDs and symbols using mygene.info Python package (Installation: https://pypi.org/project/mygene/)\n",
    "5. Upload ontology to NDEx\n",
    "\n",
    "It is strongly recommended that you go through the tutorial (DDOT_Tutorial.ipynb) before this notebook."
   ]
  },
  {
   "cell_type": "code",
   "execution_count": 1,
   "metadata": {
    "ExecuteTime": {
     "end_time": "2018-12-07T22:37:33.464455Z",
     "start_time": "2018-12-07T22:37:15.898185Z"
    },
    "collapsed": true
   },
   "outputs": [],
   "source": [
    "import requests\n",
    "import gzip\n",
    "import pandas as pd\n",
    "import networkx as nx\n",
    "import sys\n",
    "\n",
    "import ddot\n",
    "from ddot import Ontology"
   ]
  },
  {
   "cell_type": "markdown",
   "metadata": {},
   "source": [
    "# Set username and password on the Network Data Exchange (NDEx).\n",
    "* It is strongly recommended that you create a free account on NDEx in order to keep track of your own ontologies.\n",
    "* Note that there are two NDEx servers: the main server at http://public.ndexbio.org/ and a test server for prototyping your code at http://test.ndexbio.org (also aliased as http://dev2.ndexbio.org). Each server requires a separate user account. Because the main server contains networks from publications, we recommend that you use an account on the test server while you become familiar with DDOT"
   ]
  },
  {
   "cell_type": "code",
   "execution_count": 2,
   "metadata": {
    "ExecuteTime": {
     "end_time": "2018-12-07T22:37:33.474145Z",
     "start_time": "2018-12-07T22:37:33.467655Z"
    },
    "collapsed": true
   },
   "outputs": [],
   "source": [
    "# Note: change the server to http://public.ndexbio.org, if this is where you created your NDEx account\n",
    "ndex_server = 'http://test.ndexbio.org' \n",
    "\n",
    "# Set the NDEx server and the user account (replace with your own account)\n",
    "ndex_user, ndex_pass = '<enter your username>', '<enter your account password>'"
   ]
  },
  {
   "cell_type": "markdown",
   "metadata": {},
   "source": [
    "# Download and Parse Gene Ontology files"
   ]
  },
  {
   "cell_type": "code",
   "execution_count": 3,
   "metadata": {
    "ExecuteTime": {
     "end_time": "2018-12-07T22:37:39.223436Z",
     "start_time": "2018-12-07T22:37:33.476913Z"
    },
    "collapsed": true
   },
   "outputs": [],
   "source": [
    "# Download GO obo file\n",
    "r = requests.get('http://purl.obolibrary.org/obo/go/go-basic.obo')\n",
    "with open('go-basic.obo', 'wb') as f:\n",
    "    f.write(r.content)\n",
    "\n",
    "# Parse OBO file\n",
    "ddot.parse_obo('go-basic.obo', 'go.tab', 'goID_2_name.tab', 'goID_2_namespace.tab', 'goID_2_alt_id.tab')\n",
    "\n",
    "# Download gene-term annotations for human\n",
    "r = requests.get('http://geneontology.org/gene-associations/goa_human.gaf.gz')\n",
    "with open('goa_human.gaf.gz', 'wb') as f:\n",
    "    f.write(r.content)"
   ]
  },
  {
   "cell_type": "markdown",
   "metadata": {},
   "source": [
    "# Create Ontology object from Gene Ontology files"
   ]
  },
  {
   "cell_type": "code",
   "execution_count": 4,
   "metadata": {
    "ExecuteTime": {
     "end_time": "2018-12-07T22:37:40.685530Z",
     "start_time": "2018-12-07T22:37:39.226837Z"
    }
   },
   "outputs": [
    {
     "name": "stderr",
     "output_type": "stream",
     "text": [
      "/cellar/users/mikeyu/anaconda2/lib/python2.7/site-packages/IPython/core/interactiveshell.py:2821: DtypeWarning: Columns (15) have mixed types. Specify dtype option on import or set low_memory=False.\n",
      "  if self.run_code(code, result):\n"
     ]
    }
   ],
   "source": [
    "hierarchy = pd.read_table('go.tab',\n",
    "                          sep='\\t',\n",
    "                          header=None,\n",
    "                          names=['Parent', 'Child', 'Relation', 'Namespace'])\n",
    "with gzip.open('goa_human.gaf.gz', 'rb') as f:\n",
    "    mapping = ddot.parse_gaf(f)"
   ]
  },
  {
   "cell_type": "code",
   "execution_count": 5,
   "metadata": {
    "ExecuteTime": {
     "end_time": "2018-12-07T22:37:43.738754Z",
     "start_time": "2018-12-07T22:37:40.687262Z"
    }
   },
   "outputs": [
    {
     "name": "stdout",
     "output_type": "stream",
     "text": [
      "WARNING: Dropping 194821 duplicate gene-term connections\n",
      "Unifying 3 roots into one super-root\n"
     ]
    },
    {
     "data": {
      "text/plain": [
       "19737 genes, 45018 terms, 277105 gene-term relations, 92880 term-term relations\n",
       "node_attributes: []\n",
       "edge_attributes: []"
      ]
     },
     "execution_count": 5,
     "metadata": {},
     "output_type": "execute_result"
    }
   ],
   "source": [
    "go_human = Ontology.from_table(\n",
    "    table=hierarchy,\n",
    "    parent='Parent',\n",
    "    child='Child',\n",
    "    mapping=mapping,\n",
    "    mapping_child='DB Object ID',\n",
    "    mapping_parent='GO ID',\n",
    "    add_root_name='GO:00SUPER',\n",
    "    ignore_orphan_terms=True)\n",
    "go_human.clear_node_attr()\n",
    "go_human.clear_edge_attr()\n",
    "go_human"
   ]
  },
  {
   "cell_type": "markdown",
   "metadata": {},
   "source": [
    "# Collapse GO with respect to human UniProt IDs"
   ]
  },
  {
   "cell_type": "code",
   "execution_count": 6,
   "metadata": {
    "ExecuteTime": {
     "end_time": "2018-12-07T22:38:13.396237Z",
     "start_time": "2018-12-07T22:37:43.740393Z"
    }
   },
   "outputs": [
    {
     "name": "stdout",
     "output_type": "stream",
     "text": [
      "collapse command: /cellar/users/mikeyu/anaconda2/lib/python2.7/site-packages/ddot/alignOntology/collapseRedundantNodes /tmp/tmp6hPhd_\n",
      "CPU times: user 16.8 s, sys: 808 ms, total: 17.6 s\n",
      "Wall time: 29.6 s\n",
      "19737 genes, 19873 terms, 222123 gene-term relations, 44842 term-term relations\n",
      "node_attributes: []\n",
      "edge_attributes: []\n"
     ]
    }
   ],
   "source": [
    "%time go_human = go_human.collapse_ontology(method='mhkramer')\n",
    "if 'GO:00SUPER' not in go_human.terms: go_human.add_root('GO:00SUPER', inplace=True)\n",
    "print go_human"
   ]
  },
  {
   "cell_type": "markdown",
   "metadata": {},
   "source": [
    "# Add descriptions of GO terms"
   ]
  },
  {
   "cell_type": "code",
   "execution_count": 7,
   "metadata": {
    "ExecuteTime": {
     "end_time": "2018-12-07T22:38:13.563674Z",
     "start_time": "2018-12-07T22:38:13.397914Z"
    },
    "collapsed": true
   },
   "outputs": [],
   "source": [
    "go_descriptions = pd.read_table('goID_2_name.tab',\n",
    "                                header=None,\n",
    "                                names=['Term', 'Term_Description'],\n",
    "                                index_col=0)\n",
    "go_human.update_node_attr(go_descriptions)\n",
    "\n",
    "go_branches = pd.read_table('goID_2_namespace.tab',\n",
    "                                header=None,\n",
    "                                names=['Term', 'Branch'],\n",
    "                                index_col=0)\n",
    "go_human.update_node_attr(go_branches)"
   ]
  },
  {
   "cell_type": "markdown",
   "metadata": {},
   "source": [
    "# Upload GO to NDEx (and write to local file)\n",
    "* GO's annotation files uses UniProt IDs for human genes. Use the mygene.info package to convert UniProt IDs to Ensembl, HUGO, and Entrez IDs."
   ]
  },
  {
   "cell_type": "code",
   "execution_count": 8,
   "metadata": {
    "ExecuteTime": {
     "end_time": "2018-12-07T22:38:18.008374Z",
     "start_time": "2018-12-07T22:38:13.565631Z"
    }
   },
   "outputs": [
    {
     "name": "stdout",
     "output_type": "stream",
     "text": [
      "Requirement already satisfied: mygene in /cellar/users/mikeyu/anaconda2/lib/python2.7/site-packages (3.0.0)\n",
      "Requirement already satisfied: requests>=2.3.0 in /cellar/users/mikeyu/anaconda2/lib/python2.7/site-packages (from mygene) (2.18.4)\n",
      "Requirement already satisfied: idna<2.7,>=2.5 in /cellar/users/mikeyu/anaconda2/lib/python2.7/site-packages (from requests>=2.3.0->mygene) (2.6)\n",
      "Requirement already satisfied: urllib3<1.23,>=1.21.1 in /cellar/users/mikeyu/anaconda2/lib/python2.7/site-packages (from requests>=2.3.0->mygene) (1.22)\n",
      "Requirement already satisfied: certifi>=2017.4.17 in /cellar/users/mikeyu/anaconda2/lib/python2.7/site-packages (from requests>=2.3.0->mygene) (2018.1.18)\n",
      "Requirement already satisfied: chardet<3.1.0,>=3.0.2 in /cellar/users/mikeyu/anaconda2/lib/python2.7/site-packages (from requests>=2.3.0->mygene) (3.0.4)\n",
      "\u001b[33mYou are using pip version 10.0.1, however version 18.1 is available.\n",
      "You should consider upgrading via the 'pip install --upgrade pip' command.\u001b[0m\n"
     ]
    }
   ],
   "source": [
    "# Install the mygene package (it is recommend you run this in a separate bash terminal, not in this Jupyter notebook. If you want to use a conda virtual environment, then you first need to activate the environment)\n",
    "! pip install mygene"
   ]
  },
  {
   "cell_type": "code",
   "execution_count": 9,
   "metadata": {
    "ExecuteTime": {
     "end_time": "2018-12-07T22:38:18.090217Z",
     "start_time": "2018-12-07T22:38:18.012024Z"
    },
    "collapsed": true
   },
   "outputs": [],
   "source": [
    "import mygene\n",
    "mg = mygene.MyGeneInfo()"
   ]
  },
  {
   "cell_type": "code",
   "execution_count": 10,
   "metadata": {
    "ExecuteTime": {
     "end_time": "2018-12-07T22:38:18.096475Z",
     "start_time": "2018-12-07T22:38:18.093086Z"
    },
    "collapsed": true
   },
   "outputs": [],
   "source": [
    "name = 'Human-specific Gene Ontology'"
   ]
  },
  {
   "cell_type": "markdown",
   "metadata": {},
   "source": [
    "## Format GO with UniProt IDs and upload to NDEx"
   ]
  },
  {
   "cell_type": "code",
   "execution_count": 11,
   "metadata": {
    "ExecuteTime": {
     "end_time": "2018-12-07T22:38:47.309442Z",
     "start_time": "2018-12-07T22:38:18.099260Z"
    }
   },
   "outputs": [
    {
     "name": "stdout",
     "output_type": "stream",
     "text": [
      "\n",
      "http://dev2.ndexbio.org/v2/network/dbe79abb-fa70-11e8-ad43-0660b7976219\n"
     ]
    }
   ],
   "source": [
    "go_human_uniprot = go_human.copy()\n",
    "\n",
    "# Write GO to file\n",
    "go_human_uniprot.to_table('collapsed_go.uniprot', clixo_format=True)\n",
    "go_human_uniprot.to_pickle('collapsed_go.uniprot.pkl')\n",
    "\n",
    "url, G = go_human_uniprot.to_ndex(name='%s, %s' % (name, 'UniProt'),\n",
    "                                  ndex_server=ndex_server,\n",
    "                                  ndex_user=ndex_user,\n",
    "                                  ndex_pass=ndex_pass,\n",
    "                                  layout=None,\n",
    "                                  visibility='PUBLIC')\n",
    "print(url)"
   ]
  },
  {
   "cell_type": "markdown",
   "metadata": {},
   "source": [
    "## Format GO with gene symbols and upload to NDEx"
   ]
  },
  {
   "cell_type": "code",
   "execution_count": 12,
   "metadata": {
    "ExecuteTime": {
     "end_time": "2018-12-07T22:39:37.125872Z",
     "start_time": "2018-12-07T22:38:47.311417Z"
    }
   },
   "outputs": [
    {
     "name": "stdout",
     "output_type": "stream",
     "text": [
      "querying 1-1000...done.\n",
      "querying 1001-2000...done.\n",
      "querying 2001-3000...done.\n",
      "querying 3001-4000...done.\n",
      "querying 4001-5000...done.\n",
      "querying 5001-6000...done.\n",
      "querying 6001-7000...done.\n",
      "querying 7001-8000...done.\n",
      "querying 8001-9000...done.\n",
      "querying 9001-10000...done.\n",
      "querying 10001-11000...done.\n",
      "querying 11001-12000...done.\n",
      "querying 12001-13000...done.\n",
      "querying 13001-14000...done.\n",
      "querying 14001-15000...done.\n",
      "querying 15001-16000...done.\n",
      "querying 16001-17000...done.\n",
      "querying 17001-18000...done.\n",
      "querying 18001-19000...done.\n",
      "querying 19001-19737...done.\n",
      "Finished.\n",
      "318 input query terms found dup hits:\n",
      "\t[(u'G5E9R7', 2), (u'Q6ZTI6', 2), (u'P62807', 6), (u'P62805', 10), (u'Q5DJT8', 3), (u'P50391', 2), (u\n",
      "751 input query terms found no hit:\n",
      "\t[u'A0A075B734', u'A0A087WSY4', u'A0A087WUL8', u'A0A087WVM7', u'A0A087WX78', u'A0A087WZG4', u'A0A087X\n",
      "Pass \"returnall=True\" to return complete lists of duplicate or missing query terms.\n"
     ]
    }
   ],
   "source": [
    "uniprot_2_symbol_df = mg.querymany(go_human.genes, scopes='uniprot', fields='symbol', species='human', as_dataframe=True)\n",
    "\n",
    "def f(x):\n",
    "    x = x['symbol']\n",
    "    if len(x)==1:\n",
    "        return x[0]\n",
    "    else:\n",
    "        return x.tolist()\n",
    "uniprot_2_symbol = uniprot_2_symbol_df.dropna(subset=['symbol']).groupby('query').apply(f)"
   ]
  },
  {
   "cell_type": "code",
   "execution_count": 13,
   "metadata": {
    "ExecuteTime": {
     "end_time": "2018-12-07T22:41:27.999674Z",
     "start_time": "2018-12-07T22:40:58.235318Z"
    }
   },
   "outputs": [
    {
     "name": "stdout",
     "output_type": "stream",
     "text": [
      "19124 genes, 19873 terms, 220165 gene-term relations, 44842 term-term relations\n",
      "node_attributes: ['Term_Description', 'Branch']\n",
      "edge_attributes: []\n",
      "http://dev2.ndexbio.org/v2/network/3baa3908-fa71-11e8-ad43-0660b7976219\n"
     ]
    }
   ],
   "source": [
    "go_human_symbol = go_human.delete(to_delete=set(go_human.genes) - set(uniprot_2_symbol.keys()))\n",
    "go_human_symbol = go_human_symbol.rename(genes=uniprot_2_symbol.to_dict())\n",
    "print(go_human_symbol)\n",
    "\n",
    "# Write GO to file\n",
    "go_human_symbol.to_table('collapsed_go.symbol', clixo_format=True)\n",
    "go_human_symbol.to_pickle('collapsed_go.symbol.pkl')\n",
    "\n",
    "url, G = go_human_symbol.to_ndex(name='%s, %s' % (name, 'Symbol'),\n",
    "                                 ndex_server=ndex_server,\n",
    "                                 ndex_user=ndex_user,\n",
    "                                 ndex_pass=ndex_pass,\n",
    "                                 layout=None,\n",
    "                                 visibility='PUBLIC')\n",
    "print(url)"
   ]
  },
  {
   "cell_type": "markdown",
   "metadata": {},
   "source": [
    "## Format GO with Entrez gene IDs and upload to NDEx"
   ]
  },
  {
   "cell_type": "code",
   "execution_count": 14,
   "metadata": {
    "ExecuteTime": {
     "end_time": "2018-12-07T22:42:19.809682Z",
     "start_time": "2018-12-07T22:41:28.001806Z"
    }
   },
   "outputs": [
    {
     "name": "stdout",
     "output_type": "stream",
     "text": [
      "querying 1-1000...done.\n",
      "querying 1001-2000...done.\n",
      "querying 2001-3000...done.\n",
      "querying 3001-4000...done.\n",
      "querying 4001-5000...done.\n",
      "querying 5001-6000...done.\n",
      "querying 6001-7000...done.\n",
      "querying 7001-8000...done.\n",
      "querying 8001-9000...done.\n",
      "querying 9001-10000...done.\n",
      "querying 10001-11000...done.\n",
      "querying 11001-12000...done.\n",
      "querying 12001-13000...done.\n",
      "querying 13001-14000...done.\n",
      "querying 14001-15000...done.\n",
      "querying 15001-16000...done.\n",
      "querying 16001-17000...done.\n",
      "querying 17001-18000...done.\n",
      "querying 18001-19000...done.\n",
      "querying 19001-19737...done.\n",
      "Finished.\n",
      "318 input query terms found dup hits:\n",
      "\t[(u'G5E9R7', 2), (u'Q6ZTI6', 2), (u'P62807', 6), (u'P62805', 10), (u'Q5DJT8', 3), (u'P50391', 2), (u\n",
      "751 input query terms found no hit:\n",
      "\t[u'A0A075B734', u'A0A087WSY4', u'A0A087WUL8', u'A0A087WVM7', u'A0A087WX78', u'A0A087WZG4', u'A0A087X\n",
      "Pass \"returnall=True\" to return complete lists of duplicate or missing query terms.\n"
     ]
    }
   ],
   "source": [
    "uniprot_2_entrezgene_df = mg.querymany(go_human.genes, scopes='uniprot', fields='entrezgene', species='human', as_dataframe=True)\n",
    "\n",
    "def f(x):\n",
    "    x = x['entrezgene'].astype(int).astype(str)\n",
    "    if len(x)==1:\n",
    "        return x[0]\n",
    "    else:\n",
    "        return x.tolist()\n",
    "uniprot_2_entrezgene = uniprot_2_entrezgene_df.dropna(subset=['entrezgene']).groupby('query').apply(f)"
   ]
  },
  {
   "cell_type": "code",
   "execution_count": 15,
   "metadata": {
    "ExecuteTime": {
     "end_time": "2018-12-07T22:42:49.334405Z",
     "start_time": "2018-12-07T22:42:19.811415Z"
    }
   },
   "outputs": [
    {
     "name": "stdout",
     "output_type": "stream",
     "text": [
      "18513 genes, 19873 terms, 217021 gene-term relations, 44842 term-term relations\n",
      "node_attributes: ['Term_Description', 'Branch']\n",
      "edge_attributes: []\n",
      "http://dev2.ndexbio.org/v2/network/6c21c12b-fa71-11e8-ad43-0660b7976219\n"
     ]
    }
   ],
   "source": [
    "go_human_entrez = go_human.delete(to_delete=set(go_human.genes) - set(uniprot_2_entrezgene.keys()))\n",
    "go_human_entrez = go_human_entrez.rename(genes=uniprot_2_entrezgene.to_dict())\n",
    "print go_human_entrez\n",
    "\n",
    "# Write GO to file\n",
    "go_human_entrez.to_table('collapsed_go.entrez', clixo_format=True)\n",
    "go_human_entrez.to_pickle('collapsed_go.entrez.pkl')\n",
    "\n",
    "url, G = go_human_entrez.to_ndex(name='%s, %s' % (name, 'Entrez'),\n",
    "                                 ndex_server=ndex_server,\n",
    "                                 ndex_user=ndex_user,\n",
    "                                 ndex_pass=ndex_pass,\n",
    "                                 layout=None,\n",
    "                                 visibility='PUBLIC')\n",
    "print(url)"
   ]
  }
 ],
 "metadata": {
  "kernelspec": {
   "display_name": "Python [default]",
   "language": "python",
   "name": "python2"
  },
  "language_info": {
   "codemirror_mode": {
    "name": "ipython",
    "version": 2
   },
   "file_extension": ".py",
   "mimetype": "text/x-python",
   "name": "python",
   "nbconvert_exporter": "python",
   "pygments_lexer": "ipython2",
   "version": "2.7.13"
  },
  "latex_envs": {
   "LaTeX_envs_menu_present": true,
   "autocomplete": true,
   "bibliofile": "biblio.bib",
   "cite_by": "apalike",
   "current_citInitial": 1,
   "eqLabelWithNumbers": true,
   "eqNumInitial": 1,
   "hotkeys": {
    "equation": "Ctrl-E",
    "itemize": "Ctrl-I"
   },
   "labels_anchors": false,
   "latex_user_defs": false,
   "report_style_numbering": false,
   "user_envs_cfg": false
  },
  "toc": {
   "colors": {
    "hover_highlight": "#DAA520",
    "navigate_num": "#000000",
    "navigate_text": "#333333",
    "running_highlight": "#FF0000",
    "selected_highlight": "#FFD700",
    "sidebar_border": "#EEEEEE",
    "wrapper_background": "#FFFFFF"
   },
   "moveMenuLeft": true,
   "nav_menu": {
    "height": "66px",
    "width": "252px"
   },
   "navigate_menu": true,
   "number_sections": true,
   "sideBar": true,
   "threshold": 4,
   "toc_cell": false,
   "toc_position": {
    "height": "652px",
    "left": "0px",
    "right": "1359.8px",
    "top": "108px",
    "width": "176px"
   },
   "toc_section_display": "block",
   "toc_window_display": false,
   "widenNotebook": false
  }
 },
 "nbformat": 4,
 "nbformat_minor": 1
}
